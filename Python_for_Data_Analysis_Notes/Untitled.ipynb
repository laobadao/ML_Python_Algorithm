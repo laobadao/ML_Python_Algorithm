{
 "cells": [
  {
   "cell_type": "markdown",
   "metadata": {},
   "source": [
    "# Python for Data Analysis v2 | Notes_ Chapter_4 NumPy 基础：数组和矢量计算\n",
    "\n",
    "本人以简书作者 SeanCheney 系列专题文章并结合原书为学习资源，记录个人笔记，仅作为知识记录及后期复习所用，原作者地址查看 [简书 SeanCheney](https://www.jianshu.com/u/130f76596b02)，如有错误，还望批评指教。——ZJ\n",
    "\n",
    "\n",
    ">原作者：SeanCheney | [《利用Python进行数据分析·第2版》第4章 NumPy基础：数组和矢量计算](https://www.jianshu.com/p/a380222a3292) | 來源：简书\n",
    "\n",
    ">[Github:wesm](https://github.com/wesm/pydata-book) | [Github:中文 BrambleXu](https://github.com/BrambleXu/pydata-notebook)|\n",
    "简书:[利用Python进行数据分析·第2版](https://www.jianshu.com/c/52882df3377a)\n",
    "\n",
    "环境：Python 3.6 \n",
    "\n",
    "---\n",
    "\n",
    "## 第 4 章 NumPy 基础：数组和矢量计算\n",
    "\n",
    "### "
   ]
  },
  {
   "cell_type": "code",
   "execution_count": null,
   "metadata": {},
   "outputs": [],
   "source": []
  }
 ],
 "metadata": {
  "kernelspec": {
   "display_name": "Python 3",
   "language": "python",
   "name": "python3"
  },
  "language_info": {
   "codemirror_mode": {
    "name": "ipython",
    "version": 3
   },
   "file_extension": ".py",
   "mimetype": "text/x-python",
   "name": "python",
   "nbconvert_exporter": "python",
   "pygments_lexer": "ipython3",
   "version": "3.6.2"
  }
 },
 "nbformat": 4,
 "nbformat_minor": 2
}
